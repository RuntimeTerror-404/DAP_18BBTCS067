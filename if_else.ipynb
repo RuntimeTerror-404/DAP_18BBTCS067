{
  "nbformat": 4,
  "nbformat_minor": 5,
  "metadata": {
    "kernelspec": {
      "display_name": "Python 3",
      "language": "python",
      "name": "python3"
    },
    "language_info": {
      "codemirror_mode": {
        "name": "ipython",
        "version": 3
      },
      "file_extension": ".py",
      "mimetype": "text/x-python",
      "name": "python",
      "nbconvert_exporter": "python",
      "pygments_lexer": "ipython3",
      "version": "3.8.8"
    },
    "colab": {
      "name": "if-else.ipynb",
      "provenance": []
    }
  },
  "cells": [
    {
      "cell_type": "code",
      "metadata": {
        "id": "67a198ab",
        "outputId": "b6a4ff71-6f7a-4dc8-9c35-cfad47212eb2"
      },
      "source": [
        "    num = int(input(\"enter the number?\"))  \n",
        "    if num%2 == 0:  \n",
        "        print(\"Number is even\")\n",
        "    print(\"bye\")\n",
        "        "
      ],
      "id": "67a198ab",
      "execution_count": null,
      "outputs": [
        {
          "name": "stdout",
          "output_type": "stream",
          "text": [
            "enter the number?111\n",
            "bye\n"
          ]
        }
      ]
    },
    {
      "cell_type": "code",
      "metadata": {
        "id": "e81e7abc",
        "outputId": "75ae00fd-836d-47b5-8e6d-af1e5b86eacd"
      },
      "source": [
        "    a = int(input(\"Enter a- \"));  \n",
        "    b = int(input(\"Enter b- \"));  \n",
        "    c = int(input(\"Enter c- \"));  \n",
        "    if a>b and a>c:  \n",
        "        print(\"a is largest\");  \n",
        "    if b>a and b>c:  \n",
        "        print(\"b is largest\");  \n",
        "    if c>a and c>b:  \n",
        "        print(\"c is largest\");  "
      ],
      "id": "e81e7abc",
      "execution_count": null,
      "outputs": [
        {
          "name": "stdout",
          "output_type": "stream",
          "text": [
            "Enter a- 10\n",
            "Enter b- 20\n",
            "Enter c- 15\n",
            "b is largest\n"
          ]
        }
      ]
    },
    {
      "cell_type": "code",
      "metadata": {
        "id": "1c9aa697",
        "outputId": "7f459572-120a-4757-a16c-af1a0a46282f"
      },
      "source": [
        "    age = int (input(\"Enter your age? \"))  \n",
        "    if age>=18:  \n",
        "        print(\"You are eligible to vote !!\");  \n",
        "    else:  \n",
        "        print(\"Sorry! you have to wait !!\");  "
      ],
      "id": "1c9aa697",
      "execution_count": null,
      "outputs": [
        {
          "name": "stdout",
          "output_type": "stream",
          "text": [
            "Enter your age? 23\n",
            "You are eligible to vote !!\n"
          ]
        }
      ]
    },
    {
      "cell_type": "code",
      "metadata": {
        "id": "0a328395",
        "outputId": "f80831f8-df47-40ca-811a-00bb021c9814"
      },
      "source": [
        "    num = int(input(\"enter the number?\"))  \n",
        "    if num%2 == 0:  \n",
        "        print(\"Number is even...\")  \n",
        "    else:  \n",
        "        print(\"Number is odd...\")  "
      ],
      "id": "0a328395",
      "execution_count": null,
      "outputs": [
        {
          "name": "stdout",
          "output_type": "stream",
          "text": [
            "enter the number?23\n",
            "Number is odd...\n"
          ]
        }
      ]
    },
    {
      "cell_type": "code",
      "metadata": {
        "id": "11628e55",
        "outputId": "66cef72c-2625-4046-f84e-2ca7e58218c5"
      },
      "source": [
        "    number = int(input(\"Enter the number?\"))  \n",
        "    if number==10:  \n",
        "        print(\"number is equals to 10\")  \n",
        "    elif number==50:  \n",
        "        print(\"number is equal to 50\");  \n",
        "    elif number==100:  \n",
        "        print(\"number is equal to 100\");  \n",
        "    else:  \n",
        "        print(\"number is not equal to 10, 50 or 100\");  "
      ],
      "id": "11628e55",
      "execution_count": null,
      "outputs": [
        {
          "name": "stdout",
          "output_type": "stream",
          "text": [
            "Enter the number?3435\n",
            "number is not equal to 10, 50 or 100\n"
          ]
        }
      ]
    },
    {
      "cell_type": "code",
      "metadata": {
        "id": "6b02cacc",
        "outputId": "aa4f74c5-9cb5-4e60-bc9d-b7445902cc37"
      },
      "source": [
        "number = input(\"Enter the number?\")\n",
        "if number==10:  \n",
        "    print(\"number is equals to 10\")  \n",
        "elif number==50:  \n",
        "    print(\"number is equal to 50\");  \n",
        "elif number==100:  \n",
        "    print(\"number is equal to 100\");  \n",
        "else:  \n",
        "    print(\"number is not equal to 10, 50 or 100\");  "
      ],
      "id": "6b02cacc",
      "execution_count": null,
      "outputs": [
        {
          "name": "stdout",
          "output_type": "stream",
          "text": [
            "Enter the number?22\n",
            "number is not equal to 10, 50 or 100\n"
          ]
        }
      ]
    },
    {
      "cell_type": "code",
      "metadata": {
        "id": "b6a59f62",
        "outputId": "509e8d69-0b25-4a6a-e3a7-4b5b78d1b3a3"
      },
      "source": [
        "    marks = int(input(\"Enter the marks? \"))  \n",
        "    if marks > 85 and marks <= 100:  \n",
        "       print(\"Congrats ! you scored grade A ...\")  \n",
        "    elif marks > 60 and marks <= 85:  \n",
        "       print(\"You scored grade B + ...\")  \n",
        "    elif marks > 40 and marks <= 60:  \n",
        "       print(\"You scored grade B ...\")  \n",
        "    elif (marks > 30 and marks <= 40):  \n",
        "       print(\"You scored grade C ...\")  \n",
        "    else:  \n",
        "       print(\"Sorry you are fail ?\")  "
      ],
      "id": "b6a59f62",
      "execution_count": null,
      "outputs": [
        {
          "name": "stdout",
          "output_type": "stream",
          "text": [
            "Enter the marks? 78\n",
            "You scored grade B + ...\n"
          ]
        }
      ]
    },
    {
      "cell_type": "code",
      "metadata": {
        "id": "095997f5"
      },
      "source": [
        ""
      ],
      "id": "095997f5",
      "execution_count": null,
      "outputs": []
    },
    {
      "cell_type": "code",
      "metadata": {
        "id": "39540fdf"
      },
      "source": [
        ""
      ],
      "id": "39540fdf",
      "execution_count": null,
      "outputs": []
    }
  ]
}