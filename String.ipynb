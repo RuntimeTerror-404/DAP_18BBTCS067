{
  "nbformat": 4,
  "nbformat_minor": 5,
  "metadata": {
    "kernelspec": {
      "display_name": "Python 3",
      "language": "python",
      "name": "python3"
    },
    "language_info": {
      "codemirror_mode": {
        "name": "ipython",
        "version": 3
      },
      "file_extension": ".py",
      "mimetype": "text/x-python",
      "name": "python",
      "nbconvert_exporter": "python",
      "pygments_lexer": "ipython3",
      "version": "3.8.8"
    },
    "colab": {
      "name": "String.ipynb",
      "provenance": []
    }
  },
  "cells": [
    {
      "cell_type": "code",
      "metadata": {
        "id": "639477ba",
        "outputId": "140c473a-89b1-49cd-e93a-f0fc4920c1ae"
      },
      "source": [
        "var1 = 'Hello World!'\n",
        "var2 = \"Python Programming\"\n",
        "print(var1,\" \",var2)"
      ],
      "id": "639477ba",
      "execution_count": null,
      "outputs": [
        {
          "name": "stdout",
          "output_type": "stream",
          "text": [
            "Hello World!   Python Programming\n"
          ]
        }
      ]
    },
    {
      "cell_type": "code",
      "metadata": {
        "id": "08c2f75a",
        "outputId": "6c2c9c4f-cfa5-4c4f-c4ec-74121c735bc4"
      },
      "source": [
        "var1 = 'Hello World!'\n",
        "var2 = \"Python Programming\"\n",
        "\n",
        "print (var1[0])\n",
        "\n",
        "\n",
        "\n",
        "print (var2[1:5])"
      ],
      "id": "08c2f75a",
      "execution_count": null,
      "outputs": [
        {
          "name": "stdout",
          "output_type": "stream",
          "text": [
            "H\n",
            "ytho\n"
          ]
        }
      ]
    },
    {
      "cell_type": "code",
      "metadata": {
        "id": "2a3bb715",
        "outputId": "e9938697-11fa-4523-af1f-d802616ec8cc"
      },
      "source": [
        "var1 = 'Hello World!'\n",
        "print (\"Updated String :- \", var1[0:6] + 'Shabnam')"
      ],
      "id": "2a3bb715",
      "execution_count": null,
      "outputs": [
        {
          "name": "stdout",
          "output_type": "stream",
          "text": [
            "Updated String :-  Hello Shabnam\n"
          ]
        }
      ]
    },
    {
      "cell_type": "code",
      "metadata": {
        "id": "5a9795e9",
        "outputId": "3e530eab-73a7-4920-a488-a59b56cc6e75"
      },
      "source": [
        "str1 = input(\"Please Enter Your Own String : \")\n",
        "\n",
        "str2 = str1\n",
        "str3 = str1[:]\n",
        "str4 = str1[2:6]\n",
        "\n",
        "print(\"The Final String : Str2  = \", str2)\n",
        "print(\"The Final String : Str3  = = \", str3)\n",
        "print(\"The Final String : Str4  = = \", str4)"
      ],
      "id": "5a9795e9",
      "execution_count": null,
      "outputs": [
        {
          "name": "stdout",
          "output_type": "stream",
          "text": [
            "Please Enter Your Own String : hello class\n",
            "The Final String : Str2  =  hello class\n",
            "The Final String : Str3  = =  hello class\n",
            "The Final String : Str4  = =  llo \n"
          ]
        }
      ]
    },
    {
      "cell_type": "code",
      "metadata": {
        "id": "e78fecfd",
        "outputId": "71907ec0-853e-498c-e269-4cbe1b8dd8ff"
      },
      "source": [
        "#Python String capitalize() method returns a copy of the string with only its first character capitalized.\n",
        "str = \"this is string example....wow!!!\";\n",
        "print (\"str.capitalize() : \", str.capitalize())"
      ],
      "id": "e78fecfd",
      "execution_count": null,
      "outputs": [
        {
          "name": "stdout",
          "output_type": "stream",
          "text": [
            "str.capitalize() :  This is string example....wow!!!\n"
          ]
        }
      ]
    },
    {
      "cell_type": "code",
      "metadata": {
        "id": "e3e0d875",
        "outputId": "fca07dd2-9478-42fb-ec64-05c802d29b4e"
      },
      "source": [
        "#center() returns centered in a string of length width. Padding is done using the specified fillchar. Default filler is a space.\n",
        "\n",
        "\n",
        "str = \"this is string example....wow!!!\"\n",
        "print (\"str.center(40, 'a') : \", str.center(40, '*'))"
      ],
      "id": "e3e0d875",
      "execution_count": null,
      "outputs": [
        {
          "name": "stdout",
          "output_type": "stream",
          "text": [
            "str.center(40, 'a') :  ****this is string example....wow!!!****\n"
          ]
        }
      ]
    },
    {
      "cell_type": "code",
      "metadata": {
        "id": "09638a80",
        "outputId": "803b3940-5db3-4312-a5f7-157c01a14cd1"
      },
      "source": [
        "#count() returns the number of occurrences of substring sub in the range [start, end]. \n",
        "\n",
        "#str.count(sub, start= 0,end=len(string))\n",
        "\n",
        "str = \"this is string example....wow!!!\";\n",
        "\n",
        "sub = \"i\";\n",
        "print (\"str.count(sub, 4, 40) : \", str.count(sub, 4, 40))\n",
        "sub = \"wow\";\n",
        "print (\"str.count(sub) : \", str.count(sub))"
      ],
      "id": "09638a80",
      "execution_count": null,
      "outputs": [
        {
          "name": "stdout",
          "output_type": "stream",
          "text": [
            "str.count(sub, 4, 40) :  2\n",
            "str.count(sub) :  1\n"
          ]
        }
      ]
    },
    {
      "cell_type": "code",
      "metadata": {
        "id": "ab509538",
        "outputId": "4d127ec5-daef-4726-88f6-d38ac9eb07b2"
      },
      "source": [
        "#find() determines if string str occurs in string, or in a substring of string if starting index beg and ending index end are given.\n",
        "\n",
        "#str.find(str, beg=0, end=len(string))\n",
        "\n",
        "str1 = \"this is string example....wow!!!\";\n",
        "str2 = \"is\";\n",
        "\n",
        "print (str1.find(str2))\n",
        "print (str1.find(str2, 10))\n",
        "print (str1.find(str2, 40))"
      ],
      "id": "ab509538",
      "execution_count": null,
      "outputs": [
        {
          "name": "stdout",
          "output_type": "stream",
          "text": [
            "2\n",
            "-1\n",
            "-1\n"
          ]
        }
      ]
    },
    {
      "cell_type": "code",
      "metadata": {
        "id": "280f1fb5",
        "outputId": "1ea7d58b-167e-420f-8280-52715f356425"
      },
      "source": [
        "#index() determines if string str occurs in string or in a substring of string if starting index beg and ending index end are given.\n",
        "\n",
        "str1 = \"this is string example....wow!!!\";\n",
        "str2 = \"exam\";\n",
        "\n",
        "print (str1.index(str2))\n",
        "print (str1.index(str2, 10,32))\n"
      ],
      "id": "280f1fb5",
      "execution_count": null,
      "outputs": [
        {
          "name": "stdout",
          "output_type": "stream",
          "text": [
            "15\n",
            "15\n"
          ]
        }
      ]
    },
    {
      "cell_type": "code",
      "metadata": {
        "id": "3185da7c",
        "outputId": "8f90127a-80f4-4fbd-d790-635488b0404d"
      },
      "source": [
        "#isalnum() checks whether the string consists of alphanumeric characters.\n",
        "\n",
        "str = \"this2009\";  # No space in this string\n",
        "print (str.isalnum())\n",
        "\n",
        "str = \"this is string example....wow!!!\";\n",
        "print (str.isalnum())"
      ],
      "id": "3185da7c",
      "execution_count": null,
      "outputs": [
        {
          "name": "stdout",
          "output_type": "stream",
          "text": [
            "True\n",
            "False\n"
          ]
        }
      ]
    },
    {
      "cell_type": "code",
      "metadata": {
        "id": "c1d5f159",
        "outputId": "4ff8f0cd-1939-47b9-cf55-49f9cb33500c"
      },
      "source": [
        "str = \"ShabnamSharma\";  # No space & digit in this string\n",
        "print (str.isalpha())\n",
        "\n",
        "str = \"this is string example....wow!!!\";\n",
        "print (str.isalpha())"
      ],
      "id": "c1d5f159",
      "execution_count": null,
      "outputs": [
        {
          "name": "stdout",
          "output_type": "stream",
          "text": [
            "True\n",
            "False\n"
          ]
        }
      ]
    },
    {
      "cell_type": "code",
      "metadata": {
        "id": "2446680f",
        "outputId": "3283df7b-3675-457f-e0d5-c4f75e71109c"
      },
      "source": [
        "str = \"123456\";  # Only digit in this string\n",
        "print (str.isdigit())\n",
        "\n",
        "str = \"this is string example....wow!!!\";\n",
        "print (str.isdigit())"
      ],
      "id": "2446680f",
      "execution_count": null,
      "outputs": [
        {
          "name": "stdout",
          "output_type": "stream",
          "text": [
            "True\n",
            "False\n"
          ]
        }
      ]
    },
    {
      "cell_type": "code",
      "metadata": {
        "scrolled": true,
        "id": "ed8c6da3",
        "outputId": "d4da3670-4340-4807-d5ea-ad8f36ad8260"
      },
      "source": [
        "str = \"THIS is string example....wow!!!\"; \n",
        "print (str.islower())\n",
        "\n",
        "str = \"this is string example....wow!!!\";\n",
        "print (str.islower())"
      ],
      "id": "ed8c6da3",
      "execution_count": null,
      "outputs": [
        {
          "name": "stdout",
          "output_type": "stream",
          "text": [
            "False\n",
            "True\n"
          ]
        }
      ]
    },
    {
      "cell_type": "code",
      "metadata": {
        "id": "9bad371e",
        "outputId": "68e9feb3-5d86-407f-a715-a696c6687528"
      },
      "source": [
        "str = \"this2009\";  \n",
        "print (str.isnumeric())\n",
        "\n",
        "str = \"23443434\";\n",
        "print (str.isnumeric())"
      ],
      "id": "9bad371e",
      "execution_count": null,
      "outputs": [
        {
          "name": "stdout",
          "output_type": "stream",
          "text": [
            "False\n",
            "True\n"
          ]
        }
      ]
    },
    {
      "cell_type": "code",
      "metadata": {
        "id": "6f8e242a",
        "outputId": "bffe2425-4967-4015-e505-650733164873"
      },
      "source": [
        "str = \"  \"; \n",
        "print (str.isspace())\n",
        "\n",
        "str = \"This is string example....wow!!!\";\n",
        "print (str.isspace())"
      ],
      "id": "6f8e242a",
      "execution_count": null,
      "outputs": [
        {
          "name": "stdout",
          "output_type": "stream",
          "text": [
            "True\n",
            "False\n"
          ]
        }
      ]
    },
    {
      "cell_type": "code",
      "metadata": {
        "id": "a6c16bc6",
        "outputId": "2856b0ac-6482-43f9-9cb9-d763990be186"
      },
      "source": [
        "str = \"This Is String Example...Wow!!!\";\n",
        "print (str.istitle())\n",
        "\n",
        "str = \"This is string example....wow!!!\";\n",
        "print (str.istitle())"
      ],
      "id": "a6c16bc6",
      "execution_count": null,
      "outputs": [
        {
          "name": "stdout",
          "output_type": "stream",
          "text": [
            "True\n",
            "False\n"
          ]
        }
      ]
    },
    {
      "cell_type": "code",
      "metadata": {
        "id": "e2390df2",
        "outputId": "930b7e17-9847-4768-e1f6-34ae13118909"
      },
      "source": [
        "\n",
        "str = \"THIS IS STRING EXAMPLE....WOW!!!\"; \n",
        "print (str.isupper())\n",
        "\n",
        "str = \"THIS is string example....wow!!!\";\n",
        "print (str.isupper())"
      ],
      "id": "e2390df2",
      "execution_count": null,
      "outputs": [
        {
          "name": "stdout",
          "output_type": "stream",
          "text": [
            "True\n",
            "False\n"
          ]
        }
      ]
    },
    {
      "cell_type": "code",
      "metadata": {
        "id": "1af7db5c",
        "outputId": "e70d8d59-0262-4923-8318-8707bd49cc9a"
      },
      "source": [
        "#join() returns a string in which the string elements of sequence have been joined by str separator.\n",
        "\n",
        "s = \"  *  *  \";\n",
        "seq = (\"abc\", \"bttt\", \"cqweqe\"); # This is sequence of strings.\n",
        "print (s.join( seq ))"
      ],
      "id": "1af7db5c",
      "execution_count": null,
      "outputs": [
        {
          "name": "stdout",
          "output_type": "stream",
          "text": [
            "abc  *  *  bttt  *  *  cqweqe\n"
          ]
        }
      ]
    },
    {
      "cell_type": "code",
      "metadata": {
        "id": "355a2d7c",
        "outputId": "86c9d02b-a5d0-4658-8729-ea3bce9aac8a"
      },
      "source": [
        "str = \"this is string example....wow!!!\";\n",
        "print (\"Length of the string: \", len(str))"
      ],
      "id": "355a2d7c",
      "execution_count": null,
      "outputs": [
        {
          "name": "stdout",
          "output_type": "stream",
          "text": [
            "Length of the string:  32\n"
          ]
        }
      ]
    },
    {
      "cell_type": "code",
      "metadata": {
        "id": "5cc3dcbb",
        "outputId": "3eb9ff55-4051-421e-e2bd-fd2aefd02a00"
      },
      "source": [
        "#lstrip() returns a copy of the string in which all chars have been stripped from the beginning of the string (default whitespace characters)\n",
        "\n",
        "str = \"     this is string example....wow!!!     \";\n",
        "print (str.lstrip())\n",
        "str = \"88888888this is string example....wow!!!999999\";\n",
        "print (str.lstrip('8'))\n",
        "print (str.rstrip('9'))\n",
        "\n",
        "\n"
      ],
      "id": "5cc3dcbb",
      "execution_count": null,
      "outputs": [
        {
          "name": "stdout",
          "output_type": "stream",
          "text": [
            "this is string example....wow!!!     \n",
            "this is string example....wow!!!999999\n",
            "88888888this is string example....wow!!!\n"
          ]
        }
      ]
    },
    {
      "cell_type": "code",
      "metadata": {
        "id": "8fecbd1e",
        "outputId": "c13a4382-8e80-47fc-df58-567324dfabc7"
      },
      "source": [
        "str = \"THIS IS STRING EXAMPLE....WOW!!!\";\n",
        "print (str.lower())"
      ],
      "id": "8fecbd1e",
      "execution_count": null,
      "outputs": [
        {
          "name": "stdout",
          "output_type": "stream",
          "text": [
            "this is string example....wow!!!\n"
          ]
        }
      ]
    },
    {
      "cell_type": "code",
      "metadata": {
        "id": "525011b2",
        "outputId": "d5914ead-5d66-4aa7-b796-51c046599bee"
      },
      "source": [
        "#returns largest character\n",
        "str = \"check....wow!!!\";\n",
        "print (\"Max character: \" + max(str))\n",
        "\n",
        "str = \"shabnam....!!!\";\n",
        "print (\"Max character: \" + max(str))"
      ],
      "id": "525011b2",
      "execution_count": null,
      "outputs": [
        {
          "name": "stdout",
          "output_type": "stream",
          "text": [
            "Max character: w\n",
            "Max character: s\n"
          ]
        }
      ]
    },
    {
      "cell_type": "code",
      "metadata": {
        "id": "527b32f4",
        "outputId": "23f1e935-7f42-4d7b-f30a-f67251984717"
      },
      "source": [
        "str = \"this-is-real-string-example....wow!!!\";\n",
        "print (\"Min character: \" + min(str))\n",
        "\n",
        "str = \"this-is-a-string-example....wow!!!\";\n",
        "print (\"Min character: \" + min(str))"
      ],
      "id": "527b32f4",
      "execution_count": null,
      "outputs": [
        {
          "name": "stdout",
          "output_type": "stream",
          "text": [
            "Min character: !\n",
            "Min character: !\n"
          ]
        }
      ]
    },
    {
      "cell_type": "code",
      "metadata": {
        "id": "720b1d77",
        "outputId": "0021911a-d546-430c-c2e4-128691de1bd9"
      },
      "source": [
        "#str.replace(old, new[, max])\n",
        "\n",
        "str = \"this is string example....wow!!! this is really string\"\n",
        "print (str.replace(\"is\", \"was\"))\n",
        "print (str.replace(\"is\", \"was\", 3))"
      ],
      "id": "720b1d77",
      "execution_count": null,
      "outputs": [
        {
          "name": "stdout",
          "output_type": "stream",
          "text": [
            "thwas was string example....wow!!! thwas was really string\n",
            "thwas was string example....wow!!! thwas is really string\n"
          ]
        }
      ]
    },
    {
      "cell_type": "code",
      "metadata": {
        "id": "22b8a873",
        "outputId": "1455b22d-2b9f-407c-89b5-df4ed8a009cb"
      },
      "source": [
        "str = \"this is string example....wow!!!\";\n",
        "print (str.startswith( 'this' ))\n",
        "print (str.startswith( 'is', 2, 4 ))\n",
        "print (str.startswith( 'this', 2, 4 ))"
      ],
      "id": "22b8a873",
      "execution_count": null,
      "outputs": [
        {
          "name": "stdout",
          "output_type": "stream",
          "text": [
            "True\n",
            "True\n",
            "False\n"
          ]
        }
      ]
    },
    {
      "cell_type": "code",
      "metadata": {
        "id": "be5dc6d3",
        "outputId": "f97a9c1d-b18e-4488-9172-40585ad3f122"
      },
      "source": [
        "str = \"this is string example....wow!!!\";\n",
        "print (\"str.capitalize() : \", str.upper())"
      ],
      "id": "be5dc6d3",
      "execution_count": null,
      "outputs": [
        {
          "name": "stdout",
          "output_type": "stream",
          "text": [
            "str.capitalize() :  THIS IS STRING EXAMPLE....WOW!!!\n"
          ]
        }
      ]
    },
    {
      "cell_type": "code",
      "metadata": {
        "id": "fff92a6e",
        "outputId": "66994349-7107-4cca-9724-92d96894c2df"
      },
      "source": [
        "str = \"this is string example....wow!!!\";\n",
        "print (str.swapcase())\n",
        "\n",
        "str = \"THIS IS STRING EXAMPLE....WOW!!!\";\n",
        "print (str.swapcase())"
      ],
      "id": "fff92a6e",
      "execution_count": null,
      "outputs": [
        {
          "name": "stdout",
          "output_type": "stream",
          "text": [
            "THIS IS STRING EXAMPLE....WOW!!!\n",
            "this is string example....wow!!!\n"
          ]
        }
      ]
    },
    {
      "cell_type": "code",
      "metadata": {
        "id": "24cc3914"
      },
      "source": [
        ""
      ],
      "id": "24cc3914",
      "execution_count": null,
      "outputs": []
    },
    {
      "cell_type": "code",
      "metadata": {
        "id": "db06d76a"
      },
      "source": [
        ""
      ],
      "id": "db06d76a",
      "execution_count": null,
      "outputs": []
    }
  ]
}