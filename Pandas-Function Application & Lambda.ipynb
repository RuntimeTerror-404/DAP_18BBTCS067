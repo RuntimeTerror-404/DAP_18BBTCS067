{
 "cells": [
  {
   "cell_type": "code",
   "execution_count": 5,
   "id": "e923dd16",
   "metadata": {
    "scrolled": true
   },
   "outputs": [
    {
     "name": "stdout",
     "output_type": "stream",
     "text": [
      "       col1      col2      col3\n",
      "0  0.650209  0.279272 -0.874434\n",
      "1 -1.159792  0.406474 -0.532977\n",
      "2 -1.089769 -0.031652 -0.457861\n",
      "3  1.006854  0.833344 -0.878184\n",
      "4 -0.508686 -0.488085 -0.991928\n",
      "printing the results of pipe\n",
      "       col1      col2      col3\n",
      "0  2.650209  2.279272  1.125566\n",
      "1  0.840208  2.406474  1.467023\n",
      "2  0.910231  1.968348  1.542139\n",
      "3  3.006854  2.833344  1.121816\n",
      "4  1.491314  1.511915  1.008072\n"
     ]
    }
   ],
   "source": [
    "import pandas as pd\n",
    "import numpy as np\n",
    "\n",
    "def adder(ele1,ele2):\n",
    "   return ele1+ele2\n",
    "\n",
    "df = pd.DataFrame(np.random.randn(5,3),columns=['col1','col2','col3'])\n",
    "print(df)\n",
    "print(\"printing the results of pipe\")\n",
    "print(df.pipe(adder,2))"
   ]
  },
  {
   "cell_type": "code",
   "execution_count": 1,
   "id": "f592d461",
   "metadata": {},
   "outputs": [
    {
     "name": "stdout",
     "output_type": "stream",
     "text": [
      "       col1      col2      col3\n",
      "0 -0.221325 -0.379971 -0.517350\n",
      "1 -0.795384  0.654277  0.652740\n",
      "2  0.141925 -1.009026  0.990916\n",
      "3 -0.335229 -0.174160 -0.149690\n",
      "4  0.259244 -0.533985  0.176252\n",
      "col1   -0.190154\n",
      "col2   -0.288573\n",
      "col3    0.230574\n",
      "dtype: float64\n"
     ]
    }
   ],
   "source": [
    "import pandas as pd\n",
    "import numpy as np\n",
    "\n",
    "def adder(ele1,ele2):\n",
    "   return ele1+ele2\n",
    "\n",
    "df = pd.DataFrame(np.random.randn(5,3),columns=['col1','col2','col3'])\n",
    "print(df)\n",
    "\n",
    "print (df.apply(np.mean))"
   ]
  },
  {
   "cell_type": "code",
   "execution_count": 10,
   "id": "4ca2311a",
   "metadata": {},
   "outputs": [
    {
     "name": "stdout",
     "output_type": "stream",
     "text": [
      "       col1      col2      col3\n",
      "0 -0.925125  0.541934 -0.982347\n",
      "1 -1.018046  0.082642 -3.191830\n",
      "2  0.278056 -1.534515 -0.154953\n",
      "3 -1.916473 -1.760331  0.152299\n",
      "4  0.145001 -0.521489 -2.528679\n",
      "0   -0.455179\n",
      "1   -1.375745\n",
      "2   -0.470471\n",
      "3   -1.174835\n",
      "4   -0.968389\n",
      "dtype: float64\n"
     ]
    }
   ],
   "source": [
    "import pandas as pd\n",
    "import numpy as np\n",
    "\n",
    "df = pd.DataFrame(np.random.randn(5,3),columns=['col1','col2','col3'])\n",
    "print(df)\n",
    "\n",
    "print (df.apply(np.mean,axis=1))"
   ]
  },
  {
   "cell_type": "code",
   "execution_count": 14,
   "id": "0dbc6704",
   "metadata": {},
   "outputs": [
    {
     "name": "stdout",
     "output_type": "stream",
     "text": [
      "       col1      col2      col3\n",
      "0 -0.866337  0.237423  0.274658\n",
      "1  1.133911 -2.230867 -0.523681\n",
      "2  1.003188  0.029264 -0.024589\n",
      "3  0.008908 -1.562550 -1.783723\n",
      "4 -0.146589 -0.450539 -1.310938\n",
      "0    -86.633711\n",
      "1    113.391137\n",
      "2    100.318824\n",
      "3      0.890847\n",
      "4    -14.658866\n",
      "Name: col1, dtype: float64\n"
     ]
    }
   ],
   "source": [
    "import pandas as pd\n",
    "import numpy as np\n",
    "df = pd.DataFrame(np.random.randn(5,3),columns=['col1','col2','col3'])\n",
    "print(df)\n",
    "\n",
    "print(df['col1'].map(lambda x:x*100))\n"
   ]
  },
  {
   "cell_type": "code",
   "execution_count": 7,
   "id": "50c482f4",
   "metadata": {},
   "outputs": [
    {
     "name": "stdout",
     "output_type": "stream",
     "text": [
      "   id  name  age  income\n",
      "0   1   abc   11    9999\n",
      "1   2  defg   22    8888\n",
      "2   3   ghs   33    7777\n",
      "3   4  eeee   44    6666\n",
      "4   5  wwww   55    5555\n"
     ]
    }
   ],
   "source": [
    "df=pd.DataFrame({'id':[1,2,3,4,5],'name':['abc','defg','ghs','eeee','wwww'],'age':[11,22,33,44,55], 'income':[9999,8888,7777,6666,5555]})\n",
    "print(df)"
   ]
  },
  {
   "cell_type": "code",
   "execution_count": 5,
   "id": "78509ff2",
   "metadata": {},
   "outputs": [
    {
     "name": "stdout",
     "output_type": "stream",
     "text": [
      "   id  name  age\n",
      "0   1   abc   17\n",
      "1   2  defg   28\n",
      "2   3   ghs   39\n",
      "3   4  eeee   50\n",
      "4   5  wwww   61\n"
     ]
    }
   ],
   "source": [
    "df['age']=df.apply(lambda x: x['age']+3, axis=1)\n",
    "print(df)"
   ]
  },
  {
   "cell_type": "code",
   "execution_count": 6,
   "id": "31ec2e81",
   "metadata": {},
   "outputs": [
    {
     "data": {
      "text/plain": [
       "[28, 39, 50, 61]"
      ]
     },
     "execution_count": 6,
     "metadata": {},
     "output_type": "execute_result"
    }
   ],
   "source": [
    "list(filter(lambda x:x>18, df['age']))"
   ]
  },
  {
   "cell_type": "code",
   "execution_count": 9,
   "id": "0129ea5a",
   "metadata": {},
   "outputs": [
    {
     "name": "stdout",
     "output_type": "stream",
     "text": [
      "   id  name  age  income\n",
      "0   1   abc   11   14397\n",
      "1   2  defg   22   12798\n",
      "2   3   ghs   33   11198\n",
      "3   4  eeee   44    9598\n",
      "4   5  wwww   55    7999\n"
     ]
    }
   ],
   "source": [
    "df['income']=list(map(lambda x: int(x+x*0.2), df['income']))\n",
    "print(df)"
   ]
  },
  {
   "cell_type": "code",
   "execution_count": 10,
   "id": "06a1515d",
   "metadata": {},
   "outputs": [
    {
     "data": {
      "text/plain": [
       "55990"
      ]
     },
     "execution_count": 10,
     "metadata": {},
     "output_type": "execute_result"
    }
   ],
   "source": [
    "import functools\n",
    "\n",
    "functools.reduce(lambda a,b: a+b, df['income'])"
   ]
  },
  {
   "cell_type": "code",
   "execution_count": 11,
   "id": "be799491",
   "metadata": {},
   "outputs": [],
   "source": [
    "df['category']=df['age'].apply(lambda x: 'Adult' if x>=18 else 'Child')"
   ]
  },
  {
   "cell_type": "code",
   "execution_count": 12,
   "id": "43f1dac5",
   "metadata": {},
   "outputs": [
    {
     "name": "stdout",
     "output_type": "stream",
     "text": [
      "   id  name  age  income category\n",
      "0   1   abc   11   14397    Child\n",
      "1   2  defg   22   12798    Adult\n",
      "2   3   ghs   33   11198    Adult\n",
      "3   4  eeee   44    9598    Adult\n",
      "4   5  wwww   55    7999    Adult\n"
     ]
    }
   ],
   "source": [
    "print(df)"
   ]
  },
  {
   "cell_type": "code",
   "execution_count": null,
   "id": "d966841e",
   "metadata": {},
   "outputs": [],
   "source": []
  }
 ],
 "metadata": {
  "kernelspec": {
   "display_name": "Python 3",
   "language": "python",
   "name": "python3"
  },
  "language_info": {
   "codemirror_mode": {
    "name": "ipython",
    "version": 3
   },
   "file_extension": ".py",
   "mimetype": "text/x-python",
   "name": "python",
   "nbconvert_exporter": "python",
   "pygments_lexer": "ipython3",
   "version": "3.8.8"
  }
 },
 "nbformat": 4,
 "nbformat_minor": 5
}
