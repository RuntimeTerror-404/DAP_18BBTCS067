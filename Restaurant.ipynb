{
  "nbformat": 4,
  "nbformat_minor": 5,
  "metadata": {
    "kernelspec": {
      "display_name": "Python 3",
      "language": "python",
      "name": "python3"
    },
    "language_info": {
      "codemirror_mode": {
        "name": "ipython",
        "version": 3
      },
      "file_extension": ".py",
      "mimetype": "text/x-python",
      "name": "python",
      "nbconvert_exporter": "python",
      "pygments_lexer": "ipython3",
      "version": "3.8.8"
    },
    "colab": {
      "name": "Restaurant.ipynb",
      "provenance": []
    }
  },
  "cells": [
    {
      "cell_type": "code",
      "metadata": {
        "id": "596ed344",
        "outputId": "ffaa7dc6-2858-4a29-e034-aff6e1e04dfa"
      },
      "source": [
        "def login( name, pswd ):\n",
        "    print (\"Username: \", name)\n",
        "    print (\"Password\", pswd)\n",
        "    print()\n",
        "    return;\n",
        "\n",
        "def veg():\n",
        "    print(\"welcome to veg restaurant\")\n",
        "    return;\n",
        "\n",
        "\n",
        "def nonveg():\n",
        "    print(\"welcome to non-veg restaurant\")\n",
        "    return;\n",
        "\n",
        "user=input(\"enter ur username\")\n",
        "password=input(\"enter ur password\")\n",
        "login( user, password )\n",
        "\n",
        "\n",
        "choice=int(input(\"looking for veg or non-veg restaurants, press 1 for veg and 2 for non-veg\"))\n",
        "\n",
        "if choice==1:  \n",
        "    veg()  \n",
        "elif choice==2:  \n",
        "    nonveg()\n",
        "else:\n",
        "    print(\"enter either 1 or 2\")\n",
        "\n",
        "    \n",
        "\n",
        "\n"
      ],
      "id": "596ed344",
      "execution_count": null,
      "outputs": [
        {
          "name": "stdout",
          "output_type": "stream",
          "text": [
            "enter ur usernamewwww\n",
            "enter ur password1111\n",
            "Username:  wwww\n",
            "Password 1111\n",
            "\n",
            "looking for veg or non-veg restaurants, press 1 for veg and 2 for non-veg3\n",
            "enter either 1 or 2\n"
          ]
        }
      ]
    },
    {
      "cell_type": "code",
      "metadata": {
        "id": "f79a0c07"
      },
      "source": [
        ""
      ],
      "id": "f79a0c07",
      "execution_count": null,
      "outputs": []
    }
  ]
}